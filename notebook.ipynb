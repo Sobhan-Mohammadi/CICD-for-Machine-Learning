{
 "cells": [
  {
   "cell_type": "markdown",
   "id": "6cb738f6-86b9-4e9a-9bc6-ace524acf147",
   "metadata": {
    "tags": []
   },
   "source": [
    "# CICD-for-Machine-Learning"
   ]
  },
  {
   "cell_type": "code",
   "execution_count": null,
   "id": "e40b8bef-66c2-46a8-8011-cbed8fa501dc",
   "metadata": {},
   "outputs": [],
   "source": [
    "# create repo on github\n",
    "\n",
    "https://github.com/Sobhan-Mohammadi/CICD-for-Machine-Learning.git"
   ]
  },
  {
   "cell_type": "code",
   "execution_count": null,
   "id": "990b0695-439b-423c-9fce-46fb35529f05",
   "metadata": {},
   "outputs": [],
   "source": [
    "git init"
   ]
  },
  {
   "cell_type": "code",
   "execution_count": null,
   "id": "1ecbd6ed-ecea-4cbf-9bfd-a07b6b1c50bb",
   "metadata": {},
   "outputs": [],
   "source": [
    "git clone https://github.com/Sobhan-Mohammadi/CICD-for-Machine-Learning.git"
   ]
  },
  {
   "cell_type": "code",
   "execution_count": null,
   "id": "8089f374-bc06-4310-bdae-ca669f489b2c",
   "metadata": {},
   "outputs": [],
   "source": []
  },
  {
   "cell_type": "code",
   "execution_count": null,
   "id": "bfa0e10c-88bc-4723-aa6a-b2f00777f361",
   "metadata": {},
   "outputs": [],
   "source": []
  },
  {
   "cell_type": "code",
   "execution_count": null,
   "id": "1619721d-0496-43ad-830e-64617f8de9c1",
   "metadata": {},
   "outputs": [],
   "source": []
  },
  {
   "cell_type": "code",
   "execution_count": null,
   "id": "aee49582-5bc1-429f-bc0f-76286c43718c",
   "metadata": {},
   "outputs": [],
   "source": []
  },
  {
   "cell_type": "code",
   "execution_count": null,
   "id": "60a96e85-f806-4830-8ebe-7981d7a8f328",
   "metadata": {},
   "outputs": [],
   "source": []
  },
  {
   "cell_type": "code",
   "execution_count": null,
   "id": "0937f759-7f67-47b7-a450-7a48416d5ed0",
   "metadata": {},
   "outputs": [],
   "source": []
  },
  {
   "cell_type": "code",
   "execution_count": null,
   "id": "e4d52359-fc21-424d-81db-cd1a058d2e48",
   "metadata": {},
   "outputs": [],
   "source": []
  },
  {
   "cell_type": "code",
   "execution_count": null,
   "id": "d65d1b93-520f-45b3-9b19-7f7a96cb3585",
   "metadata": {},
   "outputs": [],
   "source": []
  },
  {
   "cell_type": "code",
   "execution_count": null,
   "id": "b86887d9-98b2-4e6c-93dd-c695a156c627",
   "metadata": {},
   "outputs": [],
   "source": []
  },
  {
   "cell_type": "code",
   "execution_count": null,
   "id": "1c887c7c-1a83-4c59-9ddf-b41284386272",
   "metadata": {},
   "outputs": [],
   "source": []
  },
  {
   "cell_type": "code",
   "execution_count": null,
   "id": "791c7ab6-ced0-4119-896c-acc9fa7269fa",
   "metadata": {},
   "outputs": [],
   "source": []
  },
  {
   "cell_type": "code",
   "execution_count": null,
   "id": "5f776234-d1db-45ec-8d23-d00a4af5f43c",
   "metadata": {},
   "outputs": [],
   "source": []
  },
  {
   "cell_type": "code",
   "execution_count": null,
   "id": "bccd6fea-9298-4ba6-a6f8-8a9b600bbca4",
   "metadata": {},
   "outputs": [],
   "source": []
  },
  {
   "cell_type": "code",
   "execution_count": null,
   "id": "dff8acb5-02b5-4129-8b40-6327d6d9d0b8",
   "metadata": {},
   "outputs": [],
   "source": []
  },
  {
   "cell_type": "code",
   "execution_count": null,
   "id": "c5c17a3b-cd33-45e4-9d8a-b2b94855217a",
   "metadata": {},
   "outputs": [],
   "source": []
  },
  {
   "cell_type": "code",
   "execution_count": null,
   "id": "5d7a1aa1-2d6e-4c04-a551-b0e76dfed48e",
   "metadata": {},
   "outputs": [],
   "source": []
  },
  {
   "cell_type": "code",
   "execution_count": null,
   "id": "d2f52be9-0279-4519-9fcd-a0753363e653",
   "metadata": {},
   "outputs": [],
   "source": []
  }
 ],
 "metadata": {
  "kernelspec": {
   "display_name": "Python 3 (ipykernel)",
   "language": "python",
   "name": "python3"
  },
  "language_info": {
   "codemirror_mode": {
    "name": "ipython",
    "version": 3
   },
   "file_extension": ".py",
   "mimetype": "text/x-python",
   "name": "python",
   "nbconvert_exporter": "python",
   "pygments_lexer": "ipython3",
   "version": "3.11.5"
  }
 },
 "nbformat": 4,
 "nbformat_minor": 5
}
